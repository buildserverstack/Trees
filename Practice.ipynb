{
 "cells": [
  {
   "cell_type": "code",
   "execution_count": 126,
   "id": "62abcc36-8d10-4f0b-a053-3751aaa8d094",
   "metadata": {},
   "outputs": [
    {
     "name": "stdout",
     "output_type": "stream",
     "text": [
      "1\n",
      "2\n",
      "3\n"
     ]
    }
   ],
   "source": [
    "from collections import deque\n",
    "\n",
    "d=deque()\n",
    "\n",
    "\n",
    "\n",
    "d.append(1)\n",
    "d.append(2)\n",
    "d.append(3)\n",
    "\n",
    "print(d.popleft())\n",
    "print(d.popleft())\n",
    "print(d.popleft())"
   ]
  },
  {
   "cell_type": "code",
   "execution_count": 130,
   "id": "6ea69b5b-8370-4611-9ae8-4c330eac5513",
   "metadata": {},
   "outputs": [],
   "source": [
    "from collections import deque\n",
    "\n",
    "class Node:\n",
    "    def __init__(self,val):\n",
    "        self.val=val\n",
    "        self.Left=None\n",
    "        self.Right=None\n",
    "\n",
    "def BFS(root):\n",
    "    if not root:\n",
    "        return\n",
    "\n",
    "    q=deque()\n",
    "    q.append(root)\n",
    "    while q:\n",
    "        node=q.popleft()\n",
    "        print(node.val,end=' ')\n",
    "        if node.Left:\n",
    "            q.append(node.Left)\n",
    "        if node.Right:\n",
    "            q.append(node.Right)\n",
    "        "
   ]
  },
  {
   "cell_type": "code",
   "execution_count": 131,
   "id": "821ff485-1537-4afc-a05e-67544cc97752",
   "metadata": {},
   "outputs": [],
   "source": [
    "root=Node(1)\n",
    "root.Left=Node(2)\n",
    "root.Right=Node(3)\n",
    "root.Left.Left=Node(4)\n",
    "root.Left.Right=Node(5)"
   ]
  },
  {
   "cell_type": "code",
   "execution_count": 132,
   "id": "ceab1424-3864-430f-bb4c-3e74e085f510",
   "metadata": {},
   "outputs": [
    {
     "name": "stdout",
     "output_type": "stream",
     "text": [
      "1 2 3 4 5 "
     ]
    }
   ],
   "source": [
    "BFS(root)"
   ]
  },
  {
   "cell_type": "code",
   "execution_count": null,
   "id": "e143e6a0-b8e9-4774-84b6-71d0bba4988e",
   "metadata": {},
   "outputs": [],
   "source": []
  },
  {
   "cell_type": "code",
   "execution_count": null,
   "id": "74fe3702-7129-4554-89b2-9f1c37783fde",
   "metadata": {},
   "outputs": [],
   "source": []
  },
  {
   "cell_type": "code",
   "execution_count": null,
   "id": "555fdca7-fefb-4dee-a53d-a1d9d5e71e52",
   "metadata": {},
   "outputs": [],
   "source": []
  }
 ],
 "metadata": {
  "kernelspec": {
   "display_name": "Python 3 (ipykernel)",
   "language": "python",
   "name": "python3"
  },
  "language_info": {
   "codemirror_mode": {
    "name": "ipython",
    "version": 3
   },
   "file_extension": ".py",
   "mimetype": "text/x-python",
   "name": "python",
   "nbconvert_exporter": "python",
   "pygments_lexer": "ipython3",
   "version": "3.12.7"
  }
 },
 "nbformat": 4,
 "nbformat_minor": 5
}
