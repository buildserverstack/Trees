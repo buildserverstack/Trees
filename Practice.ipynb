{
 "cells": [
  {
   "cell_type": "code",
   "execution_count": 20,
   "id": "62abcc36-8d10-4f0b-a053-3751aaa8d094",
   "metadata": {},
   "outputs": [
    {
     "name": "stdout",
     "output_type": "stream",
     "text": [
      "1\n",
      "2\n",
      "3\n"
     ]
    }
   ],
   "source": [
    "from collections import deque\n",
    "\n",
    "d=deque()\n",
    "\n",
    "\n",
    "\n",
    "d.append(1)\n",
    "d.append(2)\n",
    "d.append(3)\n",
    "\n",
    "print(d.popleft())\n",
    "print(d.popleft())\n",
    "print(d.popleft())"
   ]
  },
  {
   "cell_type": "code",
   "execution_count": 21,
   "id": "6ea69b5b-8370-4611-9ae8-4c330eac5513",
   "metadata": {},
   "outputs": [],
   "source": [
    "from collections import deque\n",
    "\n",
    "class Node:\n",
    "    def __init__(self,val):\n",
    "        self.val=val\n",
    "        self.Left=None\n",
    "        self.Right=None\n",
    "\n",
    "def BFS(root):\n",
    "    if not root:\n",
    "        return\n",
    "\n",
    "    q=deque()\n",
    "    q.append(root)\n",
    "    while q:\n",
    "        node=q.popleft()\n",
    "        print(node.val,end=' ')\n",
    "        if node.Left:\n",
    "            q.append(node.Left)\n",
    "        if node.Right:\n",
    "            q.append(node.Right)\n",
    "        "
   ]
  },
  {
   "cell_type": "code",
   "execution_count": 22,
   "id": "821ff485-1537-4afc-a05e-67544cc97752",
   "metadata": {},
   "outputs": [],
   "source": [
    "root=Node(1)\n",
    "root.Left=Node(2)\n",
    "root.Right=Node(3)\n",
    "root.Left.Left=Node(4)\n",
    "root.Left.Right=Node(5)"
   ]
  },
  {
   "cell_type": "code",
   "execution_count": 23,
   "id": "ceab1424-3864-430f-bb4c-3e74e085f510",
   "metadata": {},
   "outputs": [
    {
     "name": "stdout",
     "output_type": "stream",
     "text": [
      "1 2 3 4 5 "
     ]
    }
   ],
   "source": [
    "BFS(root)"
   ]
  },
  {
   "cell_type": "code",
   "execution_count": 26,
   "id": "e143e6a0-b8e9-4774-84b6-71d0bba4988e",
   "metadata": {},
   "outputs": [],
   "source": [
    "def inorder(root):\n",
    "    if root:\n",
    "        inorder(root.Left)\n",
    "        print(root.val,end=' ')\n",
    "        inorder(root.Right)"
   ]
  },
  {
   "cell_type": "code",
   "execution_count": 28,
   "id": "555fdca7-fefb-4dee-a53d-a1d9d5e71e52",
   "metadata": {},
   "outputs": [
    {
     "name": "stdout",
     "output_type": "stream",
     "text": [
      "4 2 5 1 3 "
     ]
    }
   ],
   "source": [
    "inorder(root)"
   ]
  },
  {
   "cell_type": "code",
   "execution_count": 32,
   "id": "5b6885f8-7529-4fd5-ba8e-8439a57f429a",
   "metadata": {},
   "outputs": [],
   "source": [
    "def preorder(root):\n",
    "    if root:\n",
    "        print(root.val,end=' ')\n",
    "        preorder(root.Left)\n",
    "        preorder(root.Right)"
   ]
  },
  {
   "cell_type": "code",
   "execution_count": 33,
   "id": "7a454fca-bb4c-4839-a02f-b89f8a5c2c03",
   "metadata": {},
   "outputs": [
    {
     "name": "stdout",
     "output_type": "stream",
     "text": [
      "1 2 4 5 3 "
     ]
    }
   ],
   "source": [
    "preorder(root)"
   ]
  },
  {
   "cell_type": "code",
   "execution_count": 34,
   "id": "a7d02d74-0cb8-450f-a6f6-d687d84c5922",
   "metadata": {},
   "outputs": [],
   "source": [
    "def postorder(root):\n",
    "    postorder(root.Left)\n",
    "    postorder(root.Right)\n",
    "    print(root.val,end=' ')\n",
    "    "
   ]
  },
  {
   "cell_type": "raw",
   "id": "a0092bf2-71cb-44a0-b724-a4a11790ae8a",
   "metadata": {},
   "source": [
    "postorder(root)"
   ]
  },
  {
   "cell_type": "code",
   "execution_count": null,
   "id": "35e8dc2c-efdd-4139-8f28-a258ba6b8c26",
   "metadata": {},
   "outputs": [],
   "source": []
  }
 ],
 "metadata": {
  "kernelspec": {
   "display_name": "Python 3 (ipykernel)",
   "language": "python",
   "name": "python3"
  },
  "language_info": {
   "codemirror_mode": {
    "name": "ipython",
    "version": 3
   },
   "file_extension": ".py",
   "mimetype": "text/x-python",
   "name": "python",
   "nbconvert_exporter": "python",
   "pygments_lexer": "ipython3",
   "version": "3.12.7"
  }
 },
 "nbformat": 4,
 "nbformat_minor": 5
}
