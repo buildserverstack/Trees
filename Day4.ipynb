{
 "cells": [
  {
   "cell_type": "code",
   "execution_count": 1,
   "id": "3f26d929-ce6c-4c6b-9dda-f1a8515408fd",
   "metadata": {},
   "outputs": [],
   "source": [
    "# Breadth First Search\n",
    "# FIFO"
   ]
  },
  {
   "cell_type": "code",
   "execution_count": 5,
   "id": "268aa46e-223f-4050-90f5-182170ae1080",
   "metadata": {},
   "outputs": [
    {
     "name": "stdout",
     "output_type": "stream",
     "text": [
      "1\n",
      "2\n",
      "3\n"
     ]
    }
   ],
   "source": [
    "from collections import deque\n",
    "\n",
    "q=deque()\n",
    "\n",
    "# Enque (Add elements)\n",
    "q.append(1)\n",
    "q.append(2)\n",
    "q.append(3)\n",
    "\n",
    "# enque (Remove Elements)\n",
    "print(q.popleft())\n",
    "print(q.popleft())\n",
    "print(q.popleft())\n"
   ]
  },
  {
   "cell_type": "code",
   "execution_count": 6,
   "id": "fee76a4d-b53f-4003-bf98-11421384f70a",
   "metadata": {},
   "outputs": [],
   "source": [
    "class Node:\n",
    "    def __init__(self,val):\n",
    "        self.val=val\n",
    "        self.left=None\n",
    "        self.right=None\n",
    "\n",
    "def level_order(root):\n",
    "    if not root:\n",
    "        return \n",
    "    q=deque()\n",
    "    q.append(root)\n",
    "\n",
    "    while q:\n",
    "        node=q.popleft()\n",
    "        print(node.val,end=' ')\n",
    "        if node.left:\n",
    "            q.append(node.left)\n",
    "        if node.right:\n",
    "            q.append(node.right)\n"
   ]
  },
  {
   "cell_type": "code",
   "execution_count": 7,
   "id": "42279d02-f37a-42c5-a8d1-1beadc5bdb5b",
   "metadata": {},
   "outputs": [
    {
     "name": "stdout",
     "output_type": "stream",
     "text": [
      "BFS\n",
      "1 2 3 4 5 "
     ]
    }
   ],
   "source": [
    "root=Node(1)\n",
    "root.left=Node(2)\n",
    "root.right=Node(3)\n",
    "root.left.left=Node(4)\n",
    "root.left.right=Node(5)\n",
    "\n",
    "print(\"BFS\")\n",
    "level_order(root)"
   ]
  },
  {
   "cell_type": "code",
   "execution_count": null,
   "id": "2e76a40d-fdeb-4c03-8529-2c29de391d6f",
   "metadata": {},
   "outputs": [],
   "source": []
  }
 ],
 "metadata": {
  "kernelspec": {
   "display_name": "Python 3 (ipykernel)",
   "language": "python",
   "name": "python3"
  },
  "language_info": {
   "codemirror_mode": {
    "name": "ipython",
    "version": 3
   },
   "file_extension": ".py",
   "mimetype": "text/x-python",
   "name": "python",
   "nbconvert_exporter": "python",
   "pygments_lexer": "ipython3",
   "version": "3.12.7"
  }
 },
 "nbformat": 4,
 "nbformat_minor": 5
}
