{
 "cells": [
  {
   "cell_type": "code",
   "execution_count": 13,
   "id": "829be66a-41e1-4993-8327-95400b5fb6d1",
   "metadata": {},
   "outputs": [],
   "source": [
    "class Node:\n",
    "    def __init__(self,val):\n",
    "        self.val = val\n",
    "        self.left = None\n",
    "        self.right = None"
   ]
  },
  {
   "cell_type": "code",
   "execution_count": 14,
   "id": "c6de72d5-92b4-45c7-bfd3-7a55ef5ebd37",
   "metadata": {},
   "outputs": [],
   "source": [
    "root=Node(1)\n",
    "root.left=Node(2)\n",
    "root.right=Node(3)"
   ]
  },
  {
   "cell_type": "code",
   "execution_count": 15,
   "id": "c0ab479c-174c-42bf-9cdb-7bb3cab7e75c",
   "metadata": {},
   "outputs": [
    {
     "name": "stdout",
     "output_type": "stream",
     "text": [
      " root = 1\n",
      " left child = 2\n",
      " right child = 3\n"
     ]
    }
   ],
   "source": [
    "print(f' root = {root.val}')\n",
    "print(f' left child = {root.left.val}')\n",
    "print(f' right child = {root.right.val}')"
   ]
  },
  {
   "cell_type": "code",
   "execution_count": null,
   "id": "2f23701f-ca72-408f-ba96-76580a7ada6f",
   "metadata": {},
   "outputs": [],
   "source": []
  },
  {
   "cell_type": "code",
   "execution_count": null,
   "id": "30aa8cce-dded-4258-ab84-5780d8d286bb",
   "metadata": {},
   "outputs": [],
   "source": []
  }
 ],
 "metadata": {
  "kernelspec": {
   "display_name": "Python 3 (ipykernel)",
   "language": "python",
   "name": "python3"
  },
  "language_info": {
   "codemirror_mode": {
    "name": "ipython",
    "version": 3
   },
   "file_extension": ".py",
   "mimetype": "text/x-python",
   "name": "python",
   "nbconvert_exporter": "python",
   "pygments_lexer": "ipython3",
   "version": "3.12.7"
  }
 },
 "nbformat": 4,
 "nbformat_minor": 5
}
