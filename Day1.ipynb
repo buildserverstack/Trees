{
 "cells": [
  {
   "cell_type": "code",
   "execution_count": 1,
   "id": "30aa8cce-dded-4258-ab84-5780d8d286bb",
   "metadata": {},
   "outputs": [],
   "source": [
    "class Node:\n",
    "    def __init__(self,val):\n",
    "        self.val=val\n",
    "        self.left=None\n",
    "        self.right=None"
   ]
  },
  {
   "cell_type": "code",
   "execution_count": 2,
   "id": "db515e1a-8207-4fc3-8960-a72bad201d78",
   "metadata": {},
   "outputs": [],
   "source": [
    "node=Node(1)\n",
    "node.left=Node(2)\n",
    "node.right=Node(3)"
   ]
  },
  {
   "cell_type": "code",
   "execution_count": 5,
   "id": "cea9ed6b-d54a-4d48-b262-eeda6807ccf8",
   "metadata": {},
   "outputs": [
    {
     "name": "stdout",
     "output_type": "stream",
     "text": [
      "root = 1\n",
      "root = 2\n",
      "root = 3\n"
     ]
    }
   ],
   "source": [
    "print(f'root = {node.val}')\n",
    "print(f'root = {node.left.val}')\n",
    "print(f'root = {node.right.val}')"
   ]
  },
  {
   "cell_type": "code",
   "execution_count": null,
   "id": "625853f1-b720-4e80-8f2a-b2756165920a",
   "metadata": {},
   "outputs": [],
   "source": []
  }
 ],
 "metadata": {
  "kernelspec": {
   "display_name": "Python 3 (ipykernel)",
   "language": "python",
   "name": "python3"
  },
  "language_info": {
   "codemirror_mode": {
    "name": "ipython",
    "version": 3
   },
   "file_extension": ".py",
   "mimetype": "text/x-python",
   "name": "python",
   "nbconvert_exporter": "python",
   "pygments_lexer": "ipython3",
   "version": "3.12.7"
  }
 },
 "nbformat": 4,
 "nbformat_minor": 5
}
