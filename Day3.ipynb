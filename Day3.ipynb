{
 "cells": [
  {
   "cell_type": "code",
   "execution_count": 4,
   "id": "ceb02dd6-6258-4976-900c-50dd45536011",
   "metadata": {},
   "outputs": [],
   "source": [
    "class Node:\n",
    "    def __init__(self,val):\n",
    "        self.val=val\n",
    "        self.right=None\n",
    "        self.left=None"
   ]
  },
  {
   "cell_type": "code",
   "execution_count": 5,
   "id": "99aa5b19-9ce6-455f-81d5-85452f375101",
   "metadata": {},
   "outputs": [],
   "source": [
    "root=Node(1)\n",
    "root.left=Node(2)\n",
    "root.right=Node(3)\n",
    "root.left.left=Node(4)\n",
    "root.left.right=Node(5)"
   ]
  },
  {
   "cell_type": "code",
   "execution_count": 7,
   "id": "c19f0927-1e0e-4b8b-b5ff-9daac0339e55",
   "metadata": {},
   "outputs": [
    {
     "name": "stdout",
     "output_type": "stream",
     "text": [
      "root = 1\n",
      "root = 2\n",
      "root = 3\n",
      "root = 4\n",
      "root = 5\n"
     ]
    }
   ],
   "source": [
    "print(f'root = {root.val}')\n",
    "print(f'root = {root.left.val}')\n",
    "print(f'root = {root.right.val}')\n",
    "print(f'root = {root.left.left.val}')\n",
    "print(f'root = {root.left.right.val}')"
   ]
  },
  {
   "cell_type": "code",
   "execution_count": 13,
   "id": "50a7ece9-b1f2-4016-9443-2c013654c2df",
   "metadata": {},
   "outputs": [],
   "source": [
    "def inorder(node):\n",
    "    if node:\n",
    "        inorder(node.left)\n",
    "        print(node.val,end=' ')\n",
    "        inorder(node.right)"
   ]
  },
  {
   "cell_type": "code",
   "execution_count": 14,
   "id": "adcea0d0-f655-4337-9904-b30fe320e00d",
   "metadata": {},
   "outputs": [],
   "source": [
    "def preorder(node):\n",
    "    if node:\n",
    "        print(node.val,end=' ')\n",
    "        preorder(node.left)\n",
    "        preorder(node.right)"
   ]
  },
  {
   "cell_type": "code",
   "execution_count": 15,
   "id": "43cbc509-b090-40db-b628-cfcdb0a5e449",
   "metadata": {},
   "outputs": [],
   "source": [
    "def postorder(node):\n",
    "    if node:\n",
    "        postorder(node.left)\n",
    "        postorder(node.right)\n",
    "        print(node.val,end =' ')"
   ]
  },
  {
   "cell_type": "code",
   "execution_count": 17,
   "id": "33d67d9e-1d49-4fc0-af08-263be4b7464f",
   "metadata": {},
   "outputs": [
    {
     "name": "stdout",
     "output_type": "stream",
     "text": [
      "inorder left -> root -> right\n",
      "4 2 5 1 3 None\n"
     ]
    }
   ],
   "source": [
    "print(\"inorder left -> root -> right\")\n",
    "print(inorder(root))"
   ]
  },
  {
   "cell_type": "code",
   "execution_count": 18,
   "id": "0bdf50ea-d22d-4f33-9a82-5880021b7924",
   "metadata": {},
   "outputs": [
    {
     "name": "stdout",
     "output_type": "stream",
     "text": [
      "preorder root -> left -> right\n",
      "1 2 4 5 3 None\n"
     ]
    }
   ],
   "source": [
    "print(\"preorder root -> left -> right\")\n",
    "print(preorder(root))"
   ]
  },
  {
   "cell_type": "code",
   "execution_count": 19,
   "id": "24c4efb6-37cd-4922-88d4-0453fed23bec",
   "metadata": {},
   "outputs": [
    {
     "name": "stdout",
     "output_type": "stream",
     "text": [
      "postorder left -> right -> root\n",
      "4 5 2 3 1 None\n"
     ]
    }
   ],
   "source": [
    "print(\"postorder left -> right -> root\")\n",
    "print(postorder(root))"
   ]
  },
  {
   "cell_type": "code",
   "execution_count": 20,
   "id": "ff329bb2-22db-4ef0-984b-7743cedb0410",
   "metadata": {},
   "outputs": [],
   "source": [
    "# Implement all three traversal on:\n",
    "# A tree with only left children\n",
    "# A tree with only right children\n",
    "# Given an inorder and preorder, can you build the tree?"
   ]
  },
  {
   "cell_type": "code",
   "execution_count": 31,
   "id": "716882db-a98e-4332-87b4-17a70b33abe9",
   "metadata": {},
   "outputs": [],
   "source": [
    "class q1Node:\n",
    "    def __init__(self,val):\n",
    "        self.val=val\n",
    "        self.left=None\n",
    "        self.right=None\n",
    "        "
   ]
  },
  {
   "cell_type": "code",
   "execution_count": 32,
   "id": "64d572f7-7b7c-4d89-9238-698de5b043ac",
   "metadata": {},
   "outputs": [],
   "source": [
    "# A tree with only left children\n",
    "q1root=q1Node(1)\n",
    "q1root.left=q1Node(2)\n",
    "q1root.left.left=q1Node(3)\n",
    "q1root.left.left.left=q1Node(4)\n",
    "q1root.left.left.left.left=q1Node(5)"
   ]
  },
  {
   "cell_type": "code",
   "execution_count": 35,
   "id": "63226918-dcc7-4dd2-970a-c40d0b8e1bdd",
   "metadata": {},
   "outputs": [],
   "source": [
    "def q1inorder(q1root):\n",
    "    if q1root:\n",
    "        q1inorder(q1root.left)\n",
    "        print(q1root.val,end=' ')\n",
    "        q1inorder(q1root.right)\n",
    "    "
   ]
  },
  {
   "cell_type": "code",
   "execution_count": 37,
   "id": "076097a7-cb5b-41f7-b4ca-a764ec29f108",
   "metadata": {},
   "outputs": [],
   "source": [
    "def q1preorder(q1root):\n",
    "    if q1root:\n",
    "        print(q1root.val,end=' ')\n",
    "        q1preorder(q1root.left)\n",
    "        q1preorder(q1root.right)"
   ]
  },
  {
   "cell_type": "code",
   "execution_count": 45,
   "id": "ad50f82c-e60a-45e2-b370-0af1a82d182f",
   "metadata": {},
   "outputs": [],
   "source": [
    "def q1postorder(q1root):\n",
    "    if q1root:\n",
    "        q1postorder(q1root.left)\n",
    "        q1postorder(q1root.right)\n",
    "        print(q1root.val,end= ' ')"
   ]
  },
  {
   "cell_type": "code",
   "execution_count": 46,
   "id": "449c2c26-f0ec-406d-9081-aac4868f0b56",
   "metadata": {},
   "outputs": [
    {
     "name": "stdout",
     "output_type": "stream",
     "text": [
      "5 4 3 2 1 None\n"
     ]
    }
   ],
   "source": [
    "print(q1inorder(q1root))"
   ]
  },
  {
   "cell_type": "code",
   "execution_count": 47,
   "id": "5bf3232b-312f-41ab-bf6c-a49c4e1f9af8",
   "metadata": {},
   "outputs": [
    {
     "name": "stdout",
     "output_type": "stream",
     "text": [
      "1 2 3 4 5 None\n"
     ]
    }
   ],
   "source": [
    "print(q1preorder(q1root))"
   ]
  },
  {
   "cell_type": "code",
   "execution_count": 48,
   "id": "e908253f-cc30-43d0-b7d2-0a9f93b9dad7",
   "metadata": {},
   "outputs": [
    {
     "name": "stdout",
     "output_type": "stream",
     "text": [
      "5 4 3 2 1 None\n"
     ]
    }
   ],
   "source": [
    "print(q1postorder(q1root))"
   ]
  },
  {
   "cell_type": "code",
   "execution_count": 49,
   "id": "799d380b-d805-4a9d-9e49-5b67f5b058b0",
   "metadata": {},
   "outputs": [],
   "source": [
    "# A tree with only left children\n",
    "class q2Node:\n",
    "    def __init__(self,val):\n",
    "        self.val=val\n",
    "        self.left=None\n",
    "        selde.right=None"
   ]
  },
  {
   "cell_type": "code",
   "execution_count": 50,
   "id": "ba3ff0b5-a625-4171-9ded-64eb26c4a8b3",
   "metadata": {},
   "outputs": [],
   "source": [
    "q2root=Node(1)\n",
    "q2root.right=Node(2)\n",
    "q2root.right.right=Node(3)\n",
    "q2root.right.right.right=Node(4)\n",
    "q2root.right.right.right.right=Node(5)"
   ]
  },
  {
   "cell_type": "code",
   "execution_count": 51,
   "id": "3ec728ec-7ecd-4d5a-bc13-2530e5ed7aff",
   "metadata": {},
   "outputs": [],
   "source": [
    "def q2inorder(q2root):\n",
    "    if q2root:\n",
    "        print(q2root.val,end=' ')\n",
    "        q2inorder(q2root.left)\n",
    "        q2inorder(q2root.right)"
   ]
  },
  {
   "cell_type": "code",
   "execution_count": 52,
   "id": "eaffeac2-07f3-436b-adbf-bfb3e952f076",
   "metadata": {},
   "outputs": [],
   "source": [
    "def q2preorder(q2root):\n",
    "    if q2root:\n",
    "        q2preorder(q2root.left)\n",
    "        print(q2root.val,end=' ')\n",
    "        q2preorder(q2root.right)"
   ]
  },
  {
   "cell_type": "code",
   "execution_count": 53,
   "id": "9a4e1ccc-48a3-4b2d-9c7d-ff03d834d601",
   "metadata": {},
   "outputs": [],
   "source": [
    "def q2postorder(q2root):\n",
    "    if q2root:\n",
    "        q2postorder(q2root.left)\n",
    "        q2postorder(q2root.right)\n",
    "        print(q2root.val,end=' ')\n",
    "        "
   ]
  },
  {
   "cell_type": "code",
   "execution_count": 54,
   "id": "3d880acb-142c-401e-a228-f0811452035f",
   "metadata": {},
   "outputs": [
    {
     "name": "stdout",
     "output_type": "stream",
     "text": [
      "1 2 3 4 5 None\n"
     ]
    }
   ],
   "source": [
    "print(q2inorder(q2root))"
   ]
  },
  {
   "cell_type": "code",
   "execution_count": 55,
   "id": "be810377-ab4a-448e-ace0-4eec9b2ed0d2",
   "metadata": {},
   "outputs": [
    {
     "name": "stdout",
     "output_type": "stream",
     "text": [
      "1 2 3 4 5 None\n"
     ]
    }
   ],
   "source": [
    "print(q2preorder(q2root))"
   ]
  },
  {
   "cell_type": "code",
   "execution_count": 56,
   "id": "072c69ac-4faf-44bd-8c42-1463f725434b",
   "metadata": {},
   "outputs": [
    {
     "name": "stdout",
     "output_type": "stream",
     "text": [
      "5 4 3 2 1 None\n"
     ]
    }
   ],
   "source": [
    "print(q2postorder(q2root))"
   ]
  },
  {
   "cell_type": "code",
   "execution_count": null,
   "id": "61a384b6-dff9-44e3-9905-fc62cb4cd3ba",
   "metadata": {},
   "outputs": [],
   "source": []
  }
 ],
 "metadata": {
  "kernelspec": {
   "display_name": "Python 3 (ipykernel)",
   "language": "python",
   "name": "python3"
  },
  "language_info": {
   "codemirror_mode": {
    "name": "ipython",
    "version": 3
   },
   "file_extension": ".py",
   "mimetype": "text/x-python",
   "name": "python",
   "nbconvert_exporter": "python",
   "pygments_lexer": "ipython3",
   "version": "3.12.7"
  }
 },
 "nbformat": 4,
 "nbformat_minor": 5
}
