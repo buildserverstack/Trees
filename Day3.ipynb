{
 "cells": [
  {
   "cell_type": "code",
   "execution_count": 12,
   "id": "ceb02dd6-6258-4976-900c-50dd45536011",
   "metadata": {},
   "outputs": [],
   "source": [
    "class Node:\n",
    "    def __init__(self,val):\n",
    "        self.val=val\n",
    "        self.right=None\n",
    "        self.left=None"
   ]
  },
  {
   "cell_type": "code",
   "execution_count": 13,
   "id": "99aa5b19-9ce6-455f-81d5-85452f375101",
   "metadata": {},
   "outputs": [],
   "source": [
    "root=Node(1)\n",
    "root.left=Node(2)\n",
    "root.right=Node(3)\n",
    "root.left.left=Node(4)\n",
    "root.left.right=Node(5)"
   ]
  },
  {
   "cell_type": "code",
   "execution_count": 14,
   "id": "c19f0927-1e0e-4b8b-b5ff-9daac0339e55",
   "metadata": {},
   "outputs": [
    {
     "name": "stdout",
     "output_type": "stream",
     "text": [
      "root = 1\n",
      "root = 2\n",
      "root = 3\n",
      "root = 4\n",
      "root = 5\n"
     ]
    }
   ],
   "source": [
    "print(f'root = {node.val}')\n",
    "print(f'root = {node.left.val}')\n",
    "print(f'root = {node.right.val}')\n",
    "print(f'root = {node.left.left.val}')\n",
    "print(f'root = {node.left.right.val}')"
   ]
  },
  {
   "cell_type": "code",
   "execution_count": 15,
   "id": "50a7ece9-b1f2-4016-9443-2c013654c2df",
   "metadata": {},
   "outputs": [],
   "source": [
    "def inorder(node):\n",
    "    if node:\n",
    "        inorder(node.left)\n",
    "        print(node.val,end=' ')\n",
    "        inorder(node.right)"
   ]
  },
  {
   "cell_type": "code",
   "execution_count": 20,
   "id": "adcea0d0-f655-4337-9904-b30fe320e00d",
   "metadata": {},
   "outputs": [],
   "source": [
    "def preorder(node):\n",
    "    if node:\n",
    "        print(node.val,end=' ')\n",
    "        preorder(node.left)\n",
    "        preorder(node.right)"
   ]
  },
  {
   "cell_type": "code",
   "execution_count": 25,
   "id": "43cbc509-b090-40db-b628-cfcdb0a5e449",
   "metadata": {},
   "outputs": [],
   "source": [
    "def postorder(node):\n",
    "    if node:\n",
    "        postorder(node.left)\n",
    "        postorder(node.right)\n",
    "        print(node.val,end =' ')"
   ]
  },
  {
   "cell_type": "code",
   "execution_count": 28,
   "id": "33d67d9e-1d49-4fc0-af08-263be4b7464f",
   "metadata": {},
   "outputs": [
    {
     "name": "stdout",
     "output_type": "stream",
     "text": [
      "inorder left -> root -> right\n",
      "4 2 5 1 3 None\n"
     ]
    }
   ],
   "source": [
    "print(\"inorder left -> root -> right\")\n",
    "print(inorder(node))"
   ]
  },
  {
   "cell_type": "code",
   "execution_count": 29,
   "id": "0bdf50ea-d22d-4f33-9a82-5880021b7924",
   "metadata": {},
   "outputs": [
    {
     "name": "stdout",
     "output_type": "stream",
     "text": [
      "preorder root -> left -> right\n",
      "1 2 4 5 3 None\n"
     ]
    }
   ],
   "source": [
    "print(\"preorder root -> left -> right\")\n",
    "print(preorder(node))"
   ]
  },
  {
   "cell_type": "code",
   "execution_count": 30,
   "id": "24c4efb6-37cd-4922-88d4-0453fed23bec",
   "metadata": {},
   "outputs": [
    {
     "name": "stdout",
     "output_type": "stream",
     "text": [
      "postorder left -> right -> root\n",
      "4 5 2 3 1 None\n"
     ]
    }
   ],
   "source": [
    "print(\"postorder left -> right -> root\")\n",
    "print(postorder(node))"
   ]
  },
  {
   "cell_type": "code",
   "execution_count": null,
   "id": "ff329bb2-22db-4ef0-984b-7743cedb0410",
   "metadata": {},
   "outputs": [],
   "source": []
  }
 ],
 "metadata": {
  "kernelspec": {
   "display_name": "Python 3 (ipykernel)",
   "language": "python",
   "name": "python3"
  },
  "language_info": {
   "codemirror_mode": {
    "name": "ipython",
    "version": 3
   },
   "file_extension": ".py",
   "mimetype": "text/x-python",
   "name": "python",
   "nbconvert_exporter": "python",
   "pygments_lexer": "ipython3",
   "version": "3.12.7"
  }
 },
 "nbformat": 4,
 "nbformat_minor": 5
}
